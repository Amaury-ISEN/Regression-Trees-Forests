{
 "cells": [
  {
   "cell_type": "markdown",
   "metadata": {},
   "source": [
    "# Apprentissage supervisé : Regression, DecisionTreeRegressor, RandomForestRegressor"
   ]
  },
  {
   "cell_type": "code",
   "execution_count": 1,
   "metadata": {},
   "outputs": [],
   "source": [
    "import pandas as pd\n",
    "import numpy as np\n",
    "from matplotlib import pyplot as pp"
   ]
  },
  {
   "cell_type": "markdown",
   "metadata": {},
   "source": [
    "## 1. Préparation des données"
   ]
  },
  {
   "cell_type": "markdown",
   "metadata": {},
   "source": [
    "### (1.1 Téléchargement de données)"
   ]
  },
  {
   "cell_type": "markdown",
   "metadata": {},
   "source": [
    "### 1.2 Information sur les données"
   ]
  },
  {
   "cell_type": "code",
   "execution_count": 2,
   "metadata": {},
   "outputs": [
    {
     "data": {
      "text/html": [
       "<div>\n",
       "<style scoped>\n",
       "    .dataframe tbody tr th:only-of-type {\n",
       "        vertical-align: middle;\n",
       "    }\n",
       "\n",
       "    .dataframe tbody tr th {\n",
       "        vertical-align: top;\n",
       "    }\n",
       "\n",
       "    .dataframe thead th {\n",
       "        text-align: right;\n",
       "    }\n",
       "</style>\n",
       "<table border=\"1\" class=\"dataframe\">\n",
       "  <thead>\n",
       "    <tr style=\"text-align: right;\">\n",
       "      <th></th>\n",
       "      <th>longitude</th>\n",
       "      <th>latitude</th>\n",
       "      <th>housing_median_age</th>\n",
       "      <th>total_rooms</th>\n",
       "      <th>total_bedrooms</th>\n",
       "      <th>population</th>\n",
       "      <th>households</th>\n",
       "      <th>median_income</th>\n",
       "      <th>median_house_value</th>\n",
       "      <th>ocean_proximity</th>\n",
       "    </tr>\n",
       "  </thead>\n",
       "  <tbody>\n",
       "    <tr>\n",
       "      <th>0</th>\n",
       "      <td>-122.23</td>\n",
       "      <td>37.88</td>\n",
       "      <td>41.0</td>\n",
       "      <td>880.0</td>\n",
       "      <td>129.0</td>\n",
       "      <td>322.0</td>\n",
       "      <td>126.0</td>\n",
       "      <td>8.3252</td>\n",
       "      <td>452600.0</td>\n",
       "      <td>NEAR BAY</td>\n",
       "    </tr>\n",
       "    <tr>\n",
       "      <th>1</th>\n",
       "      <td>-122.22</td>\n",
       "      <td>37.86</td>\n",
       "      <td>21.0</td>\n",
       "      <td>7099.0</td>\n",
       "      <td>1106.0</td>\n",
       "      <td>2401.0</td>\n",
       "      <td>1138.0</td>\n",
       "      <td>8.3014</td>\n",
       "      <td>358500.0</td>\n",
       "      <td>NEAR BAY</td>\n",
       "    </tr>\n",
       "    <tr>\n",
       "      <th>2</th>\n",
       "      <td>-122.24</td>\n",
       "      <td>37.85</td>\n",
       "      <td>52.0</td>\n",
       "      <td>1467.0</td>\n",
       "      <td>190.0</td>\n",
       "      <td>496.0</td>\n",
       "      <td>177.0</td>\n",
       "      <td>7.2574</td>\n",
       "      <td>352100.0</td>\n",
       "      <td>NEAR BAY</td>\n",
       "    </tr>\n",
       "    <tr>\n",
       "      <th>3</th>\n",
       "      <td>-122.25</td>\n",
       "      <td>37.85</td>\n",
       "      <td>52.0</td>\n",
       "      <td>1274.0</td>\n",
       "      <td>235.0</td>\n",
       "      <td>558.0</td>\n",
       "      <td>219.0</td>\n",
       "      <td>5.6431</td>\n",
       "      <td>341300.0</td>\n",
       "      <td>NEAR BAY</td>\n",
       "    </tr>\n",
       "    <tr>\n",
       "      <th>4</th>\n",
       "      <td>-122.25</td>\n",
       "      <td>37.85</td>\n",
       "      <td>52.0</td>\n",
       "      <td>1627.0</td>\n",
       "      <td>280.0</td>\n",
       "      <td>565.0</td>\n",
       "      <td>259.0</td>\n",
       "      <td>3.8462</td>\n",
       "      <td>342200.0</td>\n",
       "      <td>NEAR BAY</td>\n",
       "    </tr>\n",
       "  </tbody>\n",
       "</table>\n",
       "</div>"
      ],
      "text/plain": [
       "   longitude  latitude  housing_median_age  total_rooms  total_bedrooms  \\\n",
       "0    -122.23     37.88                41.0        880.0           129.0   \n",
       "1    -122.22     37.86                21.0       7099.0          1106.0   \n",
       "2    -122.24     37.85                52.0       1467.0           190.0   \n",
       "3    -122.25     37.85                52.0       1274.0           235.0   \n",
       "4    -122.25     37.85                52.0       1627.0           280.0   \n",
       "\n",
       "   population  households  median_income  median_house_value ocean_proximity  \n",
       "0       322.0       126.0         8.3252            452600.0        NEAR BAY  \n",
       "1      2401.0      1138.0         8.3014            358500.0        NEAR BAY  \n",
       "2       496.0       177.0         7.2574            352100.0        NEAR BAY  \n",
       "3       558.0       219.0         5.6431            341300.0        NEAR BAY  \n",
       "4       565.0       259.0         3.8462            342200.0        NEAR BAY  "
      ]
     },
     "execution_count": 2,
     "metadata": {},
     "output_type": "execute_result"
    }
   ],
   "source": [
    "df = pd.read_csv(\"./data/housing.csv\")\n",
    "df.head()"
   ]
  },
  {
   "cell_type": "markdown",
   "metadata": {},
   "source": [
    "A priori, vu les valeurs de la cible median_house_value, nous avons ici à traiter un problème de régression."
   ]
  },
  {
   "cell_type": "code",
   "execution_count": 3,
   "metadata": {},
   "outputs": [
    {
     "name": "stdout",
     "output_type": "stream",
     "text": [
      "Le nombre de lignes du tableau est : 20640\n",
      "Le nombre de colonnes du tableau est : 10\n",
      "longitude             float64\n",
      "latitude              float64\n",
      "housing_median_age    float64\n",
      "total_rooms           float64\n",
      "total_bedrooms        float64\n",
      "population            float64\n",
      "households            float64\n",
      "median_income         float64\n",
      "median_house_value    float64\n",
      "ocean_proximity        object\n",
      "dtype: object\n",
      "longitude               0\n",
      "latitude                0\n",
      "housing_median_age      0\n",
      "total_rooms             0\n",
      "total_bedrooms        207\n",
      "population              0\n",
      "households              0\n",
      "median_income           0\n",
      "median_house_value      0\n",
      "ocean_proximity         0\n",
      "dtype: int64\n"
     ]
    }
   ],
   "source": [
    "def info_dataframe (df) :\n",
    "    print(\"Le nombre de lignes du tableau est :\", df.shape[0])\n",
    "    print(\"Le nombre de colonnes du tableau est :\", df.shape[1])\n",
    "    print(df.dtypes)\n",
    "    print(df.iloc[:,:].isna().sum())\n",
    "info_dataframe(df)"
   ]
  },
  {
   "cell_type": "markdown",
   "metadata": {},
   "source": [
    "Total bedroom a des valeurs nulles. Pour éviter qu'elles ne faussent notre modèle, on peut opter pour une imputation de ces \n",
    "valeurs avec les outils de scikitlearn et la méthode médiane."
   ]
  },
  {
   "cell_type": "markdown",
   "metadata": {},
   "source": [
    "3."
   ]
  },
  {
   "cell_type": "markdown",
   "metadata": {},
   "source": [
    "Pour mémoire : \n",
    "`type(df[[\"ocean_proximity\"]])` renvoie \"pandas.core.frame.DataFrame\" tandis que `type(df[\"ocean_proximity\"])` renvoie \"pandas.core.series.Series\"."
   ]
  },
  {
   "cell_type": "code",
   "execution_count": 4,
   "metadata": {},
   "outputs": [
    {
     "name": "stdout",
     "output_type": "stream",
     "text": [
      "ocean_proximity  <1H OCEAN     9136\n",
      "                 INLAND        6551\n",
      "                 NEAR OCEAN    2658\n",
      "                 NEAR BAY      2290\n",
      "                 ISLAND           5\n",
      "dtype: int64\n"
     ]
    }
   ],
   "source": [
    "with pd.option_context('display.max_rows', None):\n",
    "     print(df[[\"ocean_proximity\"]].apply(lambda x: x.value_counts()).T.stack())"
   ]
  },
  {
   "cell_type": "code",
   "execution_count": 5,
   "metadata": {},
   "outputs": [
    {
     "data": {
      "text/html": [
       "<div>\n",
       "<style scoped>\n",
       "    .dataframe tbody tr th:only-of-type {\n",
       "        vertical-align: middle;\n",
       "    }\n",
       "\n",
       "    .dataframe tbody tr th {\n",
       "        vertical-align: top;\n",
       "    }\n",
       "\n",
       "    .dataframe thead th {\n",
       "        text-align: right;\n",
       "    }\n",
       "</style>\n",
       "<table border=\"1\" class=\"dataframe\">\n",
       "  <thead>\n",
       "    <tr style=\"text-align: right;\">\n",
       "      <th></th>\n",
       "      <th>longitude</th>\n",
       "      <th>latitude</th>\n",
       "      <th>housing_median_age</th>\n",
       "      <th>total_rooms</th>\n",
       "      <th>total_bedrooms</th>\n",
       "      <th>population</th>\n",
       "      <th>households</th>\n",
       "      <th>median_income</th>\n",
       "      <th>median_house_value</th>\n",
       "    </tr>\n",
       "  </thead>\n",
       "  <tbody>\n",
       "    <tr>\n",
       "      <th>count</th>\n",
       "      <td>20640.000000</td>\n",
       "      <td>20640.000000</td>\n",
       "      <td>20640.000000</td>\n",
       "      <td>20640.000000</td>\n",
       "      <td>20433.000000</td>\n",
       "      <td>20640.000000</td>\n",
       "      <td>20640.000000</td>\n",
       "      <td>20640.000000</td>\n",
       "      <td>20640.000000</td>\n",
       "    </tr>\n",
       "    <tr>\n",
       "      <th>mean</th>\n",
       "      <td>-119.569704</td>\n",
       "      <td>35.631861</td>\n",
       "      <td>28.639486</td>\n",
       "      <td>2635.763081</td>\n",
       "      <td>537.870553</td>\n",
       "      <td>1425.476744</td>\n",
       "      <td>499.539680</td>\n",
       "      <td>3.870671</td>\n",
       "      <td>206855.816909</td>\n",
       "    </tr>\n",
       "    <tr>\n",
       "      <th>std</th>\n",
       "      <td>2.003532</td>\n",
       "      <td>2.135952</td>\n",
       "      <td>12.585558</td>\n",
       "      <td>2181.615252</td>\n",
       "      <td>421.385070</td>\n",
       "      <td>1132.462122</td>\n",
       "      <td>382.329753</td>\n",
       "      <td>1.899822</td>\n",
       "      <td>115395.615874</td>\n",
       "    </tr>\n",
       "    <tr>\n",
       "      <th>min</th>\n",
       "      <td>-124.350000</td>\n",
       "      <td>32.540000</td>\n",
       "      <td>1.000000</td>\n",
       "      <td>2.000000</td>\n",
       "      <td>1.000000</td>\n",
       "      <td>3.000000</td>\n",
       "      <td>1.000000</td>\n",
       "      <td>0.499900</td>\n",
       "      <td>14999.000000</td>\n",
       "    </tr>\n",
       "    <tr>\n",
       "      <th>25%</th>\n",
       "      <td>-121.800000</td>\n",
       "      <td>33.930000</td>\n",
       "      <td>18.000000</td>\n",
       "      <td>1447.750000</td>\n",
       "      <td>296.000000</td>\n",
       "      <td>787.000000</td>\n",
       "      <td>280.000000</td>\n",
       "      <td>2.563400</td>\n",
       "      <td>119600.000000</td>\n",
       "    </tr>\n",
       "    <tr>\n",
       "      <th>50%</th>\n",
       "      <td>-118.490000</td>\n",
       "      <td>34.260000</td>\n",
       "      <td>29.000000</td>\n",
       "      <td>2127.000000</td>\n",
       "      <td>435.000000</td>\n",
       "      <td>1166.000000</td>\n",
       "      <td>409.000000</td>\n",
       "      <td>3.534800</td>\n",
       "      <td>179700.000000</td>\n",
       "    </tr>\n",
       "    <tr>\n",
       "      <th>75%</th>\n",
       "      <td>-118.010000</td>\n",
       "      <td>37.710000</td>\n",
       "      <td>37.000000</td>\n",
       "      <td>3148.000000</td>\n",
       "      <td>647.000000</td>\n",
       "      <td>1725.000000</td>\n",
       "      <td>605.000000</td>\n",
       "      <td>4.743250</td>\n",
       "      <td>264725.000000</td>\n",
       "    </tr>\n",
       "    <tr>\n",
       "      <th>max</th>\n",
       "      <td>-114.310000</td>\n",
       "      <td>41.950000</td>\n",
       "      <td>52.000000</td>\n",
       "      <td>39320.000000</td>\n",
       "      <td>6445.000000</td>\n",
       "      <td>35682.000000</td>\n",
       "      <td>6082.000000</td>\n",
       "      <td>15.000100</td>\n",
       "      <td>500001.000000</td>\n",
       "    </tr>\n",
       "  </tbody>\n",
       "</table>\n",
       "</div>"
      ],
      "text/plain": [
       "          longitude      latitude  housing_median_age   total_rooms  \\\n",
       "count  20640.000000  20640.000000        20640.000000  20640.000000   \n",
       "mean    -119.569704     35.631861           28.639486   2635.763081   \n",
       "std        2.003532      2.135952           12.585558   2181.615252   \n",
       "min     -124.350000     32.540000            1.000000      2.000000   \n",
       "25%     -121.800000     33.930000           18.000000   1447.750000   \n",
       "50%     -118.490000     34.260000           29.000000   2127.000000   \n",
       "75%     -118.010000     37.710000           37.000000   3148.000000   \n",
       "max     -114.310000     41.950000           52.000000  39320.000000   \n",
       "\n",
       "       total_bedrooms    population    households  median_income  \\\n",
       "count    20433.000000  20640.000000  20640.000000   20640.000000   \n",
       "mean       537.870553   1425.476744    499.539680       3.870671   \n",
       "std        421.385070   1132.462122    382.329753       1.899822   \n",
       "min          1.000000      3.000000      1.000000       0.499900   \n",
       "25%        296.000000    787.000000    280.000000       2.563400   \n",
       "50%        435.000000   1166.000000    409.000000       3.534800   \n",
       "75%        647.000000   1725.000000    605.000000       4.743250   \n",
       "max       6445.000000  35682.000000   6082.000000      15.000100   \n",
       "\n",
       "       median_house_value  \n",
       "count        20640.000000  \n",
       "mean        206855.816909  \n",
       "std         115395.615874  \n",
       "min          14999.000000  \n",
       "25%         119600.000000  \n",
       "50%         179700.000000  \n",
       "75%         264725.000000  \n",
       "max         500001.000000  "
      ]
     },
     "execution_count": 5,
     "metadata": {},
     "output_type": "execute_result"
    }
   ],
   "source": [
    "df.describe()"
   ]
  },
  {
   "cell_type": "code",
   "execution_count": 6,
   "metadata": {},
   "outputs": [
    {
     "data": {
      "text/plain": [
       "array([[<matplotlib.axes._subplots.AxesSubplot object at 0x00000163A3453550>,\n",
       "        <matplotlib.axes._subplots.AxesSubplot object at 0x00000163A34A0A60>,\n",
       "        <matplotlib.axes._subplots.AxesSubplot object at 0x00000163A34D0EB0>],\n",
       "       [<matplotlib.axes._subplots.AxesSubplot object at 0x00000163A3507370>,\n",
       "        <matplotlib.axes._subplots.AxesSubplot object at 0x00000163A35347C0>,\n",
       "        <matplotlib.axes._subplots.AxesSubplot object at 0x00000163A355FB50>],\n",
       "       [<matplotlib.axes._subplots.AxesSubplot object at 0x00000163A355FC40>,\n",
       "        <matplotlib.axes._subplots.AxesSubplot object at 0x00000163A3598130>,\n",
       "        <matplotlib.axes._subplots.AxesSubplot object at 0x00000163AB630940>]],\n",
       "      dtype=object)"
      ]
     },
     "execution_count": 6,
     "metadata": {},
     "output_type": "execute_result"
    },
    {
     "data": {
      "image/png": "[encoded data removed]",
      "text/plain": [
       "<Figure size 1440x1080 with 9 Axes>"
      ]
     },
     "metadata": {
      "needs_background": "light"
     },
     "output_type": "display_data"
    }
   ],
   "source": [
    "df.hist(bins = 50, figsize = (20,15))"
   ]
  },
  {
   "cell_type": "markdown",
   "metadata": {},
   "source": [
    "### 1.3 Répartition des données"
   ]
  },
  {
   "cell_type": "markdown",
   "metadata": {},
   "source": [
    "1.3.1. Créez un code qui partitionne les données en base d’apprentissage et base de test. Optez pour 80% pour l’apprentissage et 20% pour le test."
   ]
  },
  {
   "cell_type": "code",
   "execution_count": 7,
   "metadata": {},
   "outputs": [],
   "source": [
    "Y = df[[\"median_house_value\"]]\n",
    "\n",
    "col = list(df.columns)\n",
    "col.remove(\"median_house_value\")\n",
    "\n",
    "X = df[col]"
   ]
  },
  {
   "cell_type": "code",
   "execution_count": 8,
   "metadata": {},
   "outputs": [],
   "source": [
    "from sklearn.model_selection import train_test_split"
   ]
  },
  {
   "cell_type": "code",
   "execution_count": 9,
   "metadata": {},
   "outputs": [],
   "source": [
    "X_train, X_test, Y_train, Y_test = train_test_split (X,Y, test_size = 0.2)"
   ]
  },
  {
   "cell_type": "markdown",
   "metadata": {},
   "source": [
    "1.3.2. Affichez l’en-tête de la base de test"
   ]
  },
  {
   "cell_type": "code",
   "execution_count": 10,
   "metadata": {},
   "outputs": [
    {
     "data": {
      "text/plain": [
       "Index(['longitude', 'latitude', 'housing_median_age', 'total_rooms',\n",
       "       'total_bedrooms', 'population', 'households', 'median_income',\n",
       "       'ocean_proximity'],\n",
       "      dtype='object')"
      ]
     },
     "execution_count": 10,
     "metadata": {},
     "output_type": "execute_result"
    }
   ],
   "source": [
    "X_train.columns"
   ]
  },
  {
   "cell_type": "markdown",
   "metadata": {},
   "source": [
    "### 1.4 Découverte et visualisation des données"
   ]
  },
  {
   "cell_type": "markdown",
   "metadata": {},
   "source": [
    "1.4.1 Créez un code qui affiche en abscisse la longitude et en ordonnée la latitude. Optez pour le type scatter dans la fonction plot pour l’affichage et une valeur d’alpha (c’est un paramètre qui joue sur la transparence de la courbe) de 0.1 pour un affichage plus clair."
   ]
  },
  {
   "cell_type": "code",
   "execution_count": 11,
   "metadata": {},
   "outputs": [
    {
     "data": {
      "text/plain": [
       "<matplotlib.collections.PathCollection at 0x163ae975190>"
      ]
     },
     "execution_count": 11,
     "metadata": {},
     "output_type": "execute_result"
    },
    {
     "data": {
      "image/png": "[encoded data removed]",
      "text/plain": [
       "<Figure size 432x288 with 1 Axes>"
      ]
     },
     "metadata": {
      "needs_background": "light"
     },
     "output_type": "display_data"
    }
   ],
   "source": [
    "#On met les axes égaux pour avoir un repère orthonormé géographiquement correct.\n",
    "pp.axis('equal')\n",
    "pp.scatter(X_train[\"longitude\"], X_train[\"latitude\"], alpha = 0.1, marker = \".\")"
   ]
  },
  {
   "cell_type": "markdown",
   "metadata": {},
   "source": [
    "1.4.2. Créez un code qui permet d’avoir une idée sur le lien entre la position géographique et le\n",
    "prix des maisons (target). Optez pour une valeur égale à False de \"sharex\"."
   ]
  },
  {
   "cell_type": "code",
   "execution_count": 12,
   "metadata": {},
   "outputs": [
    {
     "data": {
      "image/png": "[encoded data removed]",
      "text/plain": [
       "<Figure size 432x288 with 2 Axes>"
      ]
     },
     "metadata": {
      "needs_background": "light"
     },
     "output_type": "display_data"
    }
   ],
   "source": [
    "pp.axis('equal')\n",
    "\n",
    "#On utilise une cmap (gradient de couleur) et pour gérer le gradient on passe les valeurs de la target dans un c.\n",
    "\n",
    "pp.scatter(x = X_train[\"longitude\"],\n",
    "           y = X_train[\"latitude\"],\n",
    "           c = Y_train.values,\n",
    "           alpha = 0.3,\n",
    "           marker = \".\",\n",
    "           cmap = \"rainbow\")\n",
    "\n",
    "pp.colorbar().set_label('median_house_value')"
   ]
  },
  {
   "cell_type": "markdown",
   "metadata": {},
   "source": [
    "1.4.3. Modifiez le graphe de la question précédente pour savoir la raison du prix élevé de quelques\n",
    "maisons. Pour ce faire :\n",
    "\n",
    "• Téléchargez l’image de la californie\n",
    "\n",
    "• Utilisez la fonction imread du sous-module image du module matplotlib\n",
    "\n",
    "• Utilisez la fonction imshow du sous-module pyplot du module matplotlib"
   ]
  },
  {
   "cell_type": "code",
   "execution_count": 13,
   "metadata": {},
   "outputs": [
    {
     "data": {
      "image/png": "[encoded data removed]",
      "text/plain": [
       "<Figure size 432x288 with 2 Axes>"
      ]
     },
     "metadata": {
      "needs_background": "light"
     },
     "output_type": "display_data"
    }
   ],
   "source": [
    "from matplotlib import image\n",
    "\n",
    "carte_californie = image.imread(\"california.png\")\n",
    "\n",
    "pp.imshow(carte_californie, zorder=1, aspect='auto', extent=[-124.55, -113.80, 32.45, 42.05],)\n",
    "\n",
    "\n",
    "pp.scatter(x = X_train[\"longitude\"],\n",
    "           y = X_train[\"latitude\"],\n",
    "           c = Y_train.values,\n",
    "           alpha = 0.3,\n",
    "           marker = \".\",\n",
    "           cmap = \"rainbow\",\n",
    "           zorder=2)\n",
    "\n",
    "pp.colorbar().set_label('median_house_value')"
   ]
  },
  {
   "cell_type": "markdown",
   "metadata": {},
   "source": [
    "1.4.4. Une pratique très intéressante dans l’analyse de données est l’étude des corrélation entre\n",
    "les variables. Créez un code qui affiche, en valeur, la corrélation de l’attribut \"median_\n",
    "house_value\" avec les autres attributs. Qu’est ce que vous remarquez ?"
   ]
  },
  {
   "cell_type": "code",
   "execution_count": 14,
   "metadata": {},
   "outputs": [
    {
     "data": {
      "text/html": [
       "<div>\n",
       "<style scoped>\n",
       "    .dataframe tbody tr th:only-of-type {\n",
       "        vertical-align: middle;\n",
       "    }\n",
       "\n",
       "    .dataframe tbody tr th {\n",
       "        vertical-align: top;\n",
       "    }\n",
       "\n",
       "    .dataframe thead th {\n",
       "        text-align: right;\n",
       "    }\n",
       "</style>\n",
       "<table border=\"1\" class=\"dataframe\">\n",
       "  <thead>\n",
       "    <tr style=\"text-align: right;\">\n",
       "      <th></th>\n",
       "      <th>median_house_value</th>\n",
       "    </tr>\n",
       "  </thead>\n",
       "  <tbody>\n",
       "    <tr>\n",
       "      <th>longitude</th>\n",
       "      <td>-0.045967</td>\n",
       "    </tr>\n",
       "    <tr>\n",
       "      <th>latitude</th>\n",
       "      <td>-0.144160</td>\n",
       "    </tr>\n",
       "    <tr>\n",
       "      <th>housing_median_age</th>\n",
       "      <td>0.105623</td>\n",
       "    </tr>\n",
       "    <tr>\n",
       "      <th>total_rooms</th>\n",
       "      <td>0.134153</td>\n",
       "    </tr>\n",
       "    <tr>\n",
       "      <th>total_bedrooms</th>\n",
       "      <td>0.049686</td>\n",
       "    </tr>\n",
       "    <tr>\n",
       "      <th>population</th>\n",
       "      <td>-0.024650</td>\n",
       "    </tr>\n",
       "    <tr>\n",
       "      <th>households</th>\n",
       "      <td>0.065843</td>\n",
       "    </tr>\n",
       "    <tr>\n",
       "      <th>median_income</th>\n",
       "      <td>0.688075</td>\n",
       "    </tr>\n",
       "    <tr>\n",
       "      <th>median_house_value</th>\n",
       "      <td>1.000000</td>\n",
       "    </tr>\n",
       "  </tbody>\n",
       "</table>\n",
       "</div>"
      ],
      "text/plain": [
       "                    median_house_value\n",
       "longitude                    -0.045967\n",
       "latitude                     -0.144160\n",
       "housing_median_age            0.105623\n",
       "total_rooms                   0.134153\n",
       "total_bedrooms                0.049686\n",
       "population                   -0.024650\n",
       "households                    0.065843\n",
       "median_income                 0.688075\n",
       "median_house_value            1.000000"
      ]
     },
     "execution_count": 14,
     "metadata": {},
     "output_type": "execute_result"
    }
   ],
   "source": [
    "df.corr()[[\"median_house_value\"]]"
   ]
  },
  {
   "cell_type": "markdown",
   "metadata": {},
   "source": [
    "On remarque que la plus forte corrélation est une corrélation positive du coût médian de la maison avec la variable de revenu médian. Les autres variables corrèlent finalement assez peu."
   ]
  },
  {
   "cell_type": "markdown",
   "metadata": {},
   "source": [
    "## 1.5 Nettoyage des données"
   ]
  },
  {
   "cell_type": "markdown",
   "metadata": {},
   "source": [
    "Avant d’intégrer les données dans un algorithme d’apprentissage automatique, il est indispensable\n",
    "de séparer le \"features\" et la valeur cible (target).\n",
    "### 1.5.1. Créez un code permettant de créer deux variables :\n",
    "\n",
    "• Une première contenant que les input. Utilisez la fonction drop du module pandas\n",
    "\n",
    "• Une deuxième contenant que les labels. Utilisez la fonction copy du module pandas"
   ]
  },
  {
   "cell_type": "code",
   "execution_count": 136,
   "metadata": {},
   "outputs": [],
   "source": [
    "# Non applicable car split réalisé plus haut."
   ]
  },
  {
   "cell_type": "markdown",
   "metadata": {},
   "source": [
    "### 1.5.2.\n",
    "Dans la question 8, vous avez dû remarquer que l’attribut \"total_bedrooms\" a des valeurs\n",
    "manquantes (NaN). Pour remédier à ceci, il existes trois options :\n",
    "\n",
    "• Supprimer les valeurs manquantes (NaN)\n",
    "\n",
    "• Supprimer l’attribut \"total_bedrooms\"\n",
    "\n",
    "• Remplacer les valeurs manquantes par une autre valeur (0, la moyenne, la médiane,\n",
    ". . . ).\n",
    "\n",
    "Nous optons pour cette méthode. Ecrivez un code qui remplace les valeurs manquantes\n",
    "par la médiane. Utilisez les fonctions median et fillna du module Pandas. Vérifiez\n",
    "avec la fonction \"info\" si le problème a été résolu.\n"
   ]
  },
  {
   "cell_type": "code",
   "execution_count": 15,
   "metadata": {},
   "outputs": [
    {
     "data": {
      "text/plain": [
       "174"
      ]
     },
     "execution_count": 15,
     "metadata": {},
     "output_type": "execute_result"
    }
   ],
   "source": [
    "X_train[\"total_bedrooms\"].isna().sum()"
   ]
  },
  {
   "cell_type": "code",
   "execution_count": 16,
   "metadata": {},
   "outputs": [
    {
     "name": "stderr",
     "output_type": "stream",
     "text": [
      "<ipython-input-16-4cb3c137967d>:1: SettingWithCopyWarning: \n",
      "A value is trying to be set on a copy of a slice from a DataFrame.\n",
      "Try using .loc[row_indexer,col_indexer] = value instead\n",
      "\n",
      "See the caveats in the documentation: https://pandas.pydata.org/pandas-docs/stable/user_guide/indexing.html#returning-a-view-versus-a-copy\n",
      "  X_train[\"total_bedrooms\"] = X_train[\"total_bedrooms\"].fillna(X_train[\"total_bedrooms\"].mean())\n"
     ]
    },
    {
     "data": {
      "text/plain": [
       "0"
      ]
     },
     "execution_count": 16,
     "metadata": {},
     "output_type": "execute_result"
    }
   ],
   "source": [
    "X_train[\"total_bedrooms\"] = X_train[\"total_bedrooms\"].fillna(X_train[\"total_bedrooms\"].mean())\n",
    "X_train[\"total_bedrooms\"].isna().sum()"
   ]
  },
  {
   "cell_type": "code",
   "execution_count": 17,
   "metadata": {},
   "outputs": [
    {
     "data": {
      "text/plain": [
       "33"
      ]
     },
     "execution_count": 17,
     "metadata": {},
     "output_type": "execute_result"
    }
   ],
   "source": [
    "X_test[\"total_bedrooms\"].isna().sum()"
   ]
  },
  {
   "cell_type": "code",
   "execution_count": 18,
   "metadata": {},
   "outputs": [
    {
     "name": "stderr",
     "output_type": "stream",
     "text": [
      "<ipython-input-18-d6e99fa25666>:1: SettingWithCopyWarning: \n",
      "A value is trying to be set on a copy of a slice from a DataFrame.\n",
      "Try using .loc[row_indexer,col_indexer] = value instead\n",
      "\n",
      "See the caveats in the documentation: https://pandas.pydata.org/pandas-docs/stable/user_guide/indexing.html#returning-a-view-versus-a-copy\n",
      "  X_test[\"total_bedrooms\"] = X_test[\"total_bedrooms\"].fillna(X_test[\"total_bedrooms\"].mean())\n"
     ]
    },
    {
     "data": {
      "text/plain": [
       "0"
      ]
     },
     "execution_count": 18,
     "metadata": {},
     "output_type": "execute_result"
    }
   ],
   "source": [
    "X_test[\"total_bedrooms\"] = X_test[\"total_bedrooms\"].fillna(X_test[\"total_bedrooms\"].mean())\n",
    "X_test[\"total_bedrooms\"].isna().sum()"
   ]
  },
  {
   "cell_type": "markdown",
   "metadata": {},
   "source": [
    "### 1.5.3.\n",
    "Les algorithmes d’apprentissage profond préfère de travailler avec les données numériques.\n",
    "Ceci est valable pour tous les attributs sauf \"ocean_proximity\". Vérifiez ceci en affichant 10\n",
    "de ces valeurs. Transformer les valeurs qualitatives en des valeurs numériques.\n"
   ]
  },
  {
   "cell_type": "code",
   "execution_count": 19,
   "metadata": {},
   "outputs": [
    {
     "data": {
      "text/plain": [
       "7068      <1H OCEAN\n",
       "1864      <1H OCEAN\n",
       "9485         INLAND\n",
       "7631      <1H OCEAN\n",
       "17667     <1H OCEAN\n",
       "3575      <1H OCEAN\n",
       "6380         INLAND\n",
       "14656    NEAR OCEAN\n",
       "1371       NEAR BAY\n",
       "5600      <1H OCEAN\n",
       "Name: ocean_proximity, dtype: object"
      ]
     },
     "execution_count": 19,
     "metadata": {},
     "output_type": "execute_result"
    }
   ],
   "source": [
    "X_train[\"ocean_proximity\"].head(10)"
   ]
  },
  {
   "cell_type": "code",
   "execution_count": 20,
   "metadata": {},
   "outputs": [
    {
     "name": "stderr",
     "output_type": "stream",
     "text": [
      "<ipython-input-20-245cfc01d6cc>:5: SettingWithCopyWarning: \n",
      "A value is trying to be set on a copy of a slice from a DataFrame.\n",
      "Try using .loc[row_indexer,col_indexer] = value instead\n",
      "\n",
      "See the caveats in the documentation: https://pandas.pydata.org/pandas-docs/stable/user_guide/indexing.html#returning-a-view-versus-a-copy\n",
      "  X_train[\"ocean_proximity\"] = lab_enc.transform(X_train[\"ocean_proximity\"])\n"
     ]
    }
   ],
   "source": [
    "from sklearn.preprocessing import LabelEncoder\n",
    "\n",
    "lab_enc = LabelEncoder()\n",
    "lab_enc.fit(X_train[\"ocean_proximity\"])\n",
    "X_train[\"ocean_proximity\"] = lab_enc.transform(X_train[\"ocean_proximity\"])"
   ]
  },
  {
   "cell_type": "code",
   "execution_count": 21,
   "metadata": {},
   "outputs": [
    {
     "name": "stderr",
     "output_type": "stream",
     "text": [
      "<ipython-input-21-786289f9f08b>:3: SettingWithCopyWarning: \n",
      "A value is trying to be set on a copy of a slice from a DataFrame.\n",
      "Try using .loc[row_indexer,col_indexer] = value instead\n",
      "\n",
      "See the caveats in the documentation: https://pandas.pydata.org/pandas-docs/stable/user_guide/indexing.html#returning-a-view-versus-a-copy\n",
      "  X_test[\"ocean_proximity\"] = lab_enc.transform(X_test[\"ocean_proximity\"])\n"
     ]
    }
   ],
   "source": [
    "lab_enc = LabelEncoder()\n",
    "lab_enc.fit(X_test[\"ocean_proximity\"])\n",
    "X_test[\"ocean_proximity\"] = lab_enc.transform(X_test[\"ocean_proximity\"])"
   ]
  },
  {
   "cell_type": "markdown",
   "metadata": {},
   "source": [
    "### 1.5.4. Affichez les données pour vérifier le résultat."
   ]
  },
  {
   "cell_type": "code",
   "execution_count": 22,
   "metadata": {},
   "outputs": [
    {
     "name": "stdout",
     "output_type": "stream",
     "text": [
      "7068     0\n",
      "1864     0\n",
      "9485     1\n",
      "7631     0\n",
      "17667    0\n",
      "3575     0\n",
      "6380     1\n",
      "14656    4\n",
      "1371     3\n",
      "5600     0\n",
      "Name: ocean_proximity, dtype: int32\n",
      "16064    4\n",
      "6652     0\n",
      "5720     0\n",
      "12558    1\n",
      "6661     1\n",
      "12146    0\n",
      "12377    1\n",
      "623      3\n",
      "3434     0\n",
      "11262    0\n",
      "Name: ocean_proximity, dtype: int32\n"
     ]
    }
   ],
   "source": [
    "print(X_train[\"ocean_proximity\"].head(10))\n",
    "print(X_test[\"ocean_proximity\"].head(10))"
   ]
  },
  {
   "cell_type": "markdown",
   "metadata": {},
   "source": [
    "## 2 Sélection, apprentissage et évaluation du modèle\n",
    "\n",
    "\n",
    "### 2.1. Créez un code permettant d’appliquer la régression linéaire sur les données d’apprentissage."
   ]
  },
  {
   "cell_type": "code",
   "execution_count": 23,
   "metadata": {},
   "outputs": [
    {
     "data": {
      "text/plain": [
       "array([[-4.26222683e+04, -4.23768344e+04,  1.14636542e+03,\n",
       "        -6.67751599e+00,  8.64061854e+01, -3.87620862e+01,\n",
       "         7.10807805e+01,  4.01392917e+04,  1.29306743e+02]])"
      ]
     },
     "execution_count": 23,
     "metadata": {},
     "output_type": "execute_result"
    }
   ],
   "source": [
    "from sklearn import linear_model\n",
    "\n",
    "lin_reg = linear_model.LinearRegression()\n",
    "lin_reg.fit(X_train, Y_train)\n",
    "lin_reg.coef_"
   ]
  },
  {
   "cell_type": "markdown",
   "metadata": {},
   "source": [
    "### 2.2. Créez un code qui prédit les classes de la base d’apprentissage.\n",
    "Pour ce faire, utilisez la\n",
    "méthode predict de la classe LinearRegression en donnant comme argument les données\n",
    "d’apprentissage. Ensuite, affichez les valeurs cible réelles et celles prédites."
   ]
  },
  {
   "cell_type": "code",
   "execution_count": 24,
   "metadata": {},
   "outputs": [],
   "source": [
    "Y_predit = lin_reg.predict(X_train)"
   ]
  },
  {
   "cell_type": "code",
   "execution_count": 25,
   "metadata": {},
   "outputs": [
    {
     "name": "stdout",
     "output_type": "stream",
     "text": [
      "[[242760.27403101]\n",
      " [ 85800.92698209]\n",
      " [161716.169052  ]\n",
      " ...\n",
      " [280951.28810877]\n",
      " [182285.17736455]\n",
      " [151462.62311807]]\n",
      "       median_house_value\n",
      "7068             179800.0\n",
      "1864             116700.0\n",
      "9485             137500.0\n",
      "7631             162900.0\n",
      "17667            177600.0\n",
      "...                   ...\n",
      "13721            112500.0\n",
      "17105            409300.0\n",
      "17058            361900.0\n",
      "2973             130100.0\n",
      "12198            155600.0\n",
      "\n",
      "[16512 rows x 1 columns]\n"
     ]
    }
   ],
   "source": [
    "print(Y_predit)\n",
    "\n",
    "print(Y_train)"
   ]
  },
  {
   "cell_type": "markdown",
   "metadata": {},
   "source": [
    "### 2.3. Calculez la mesure RMSE du modèle de la régression linéaire."
   ]
  },
  {
   "cell_type": "code",
   "execution_count": 26,
   "metadata": {},
   "outputs": [],
   "source": [
    "from sklearn.metrics import mean_squared_error"
   ]
  },
  {
   "cell_type": "code",
   "execution_count": 27,
   "metadata": {},
   "outputs": [
    {
     "name": "stdout",
     "output_type": "stream",
     "text": [
      "69220.87422038989\n"
     ]
    }
   ],
   "source": [
    "#Pour une raison qui m'échappe, c'est en mettant \"False\" à l'argument \"squared\" qu'on obtient la RMSE et pas la MSE.\n",
    "RMSE = mean_squared_error(Y_predit, Y_train ,squared = False) \n",
    "print(RMSE)"
   ]
  },
  {
   "cell_type": "markdown",
   "metadata": {},
   "source": [
    "### 2.4. Refaites les deux étapes précédentes avec le modèle DecisionTreeRegressor.\n",
    "Calculez la mesure RMSE du modèle DecisionTreeRegressor qui existe dans le sous-module tree du\n",
    "module sklearn.\n",
    "Pour plus d’informations sur les arbres de décision:\n",
    "http://cedric.cnam.fr/vertigo/cours/ml2/tpArbresDecision.html"
   ]
  },
  {
   "cell_type": "code",
   "execution_count": 98,
   "metadata": {},
   "outputs": [
    {
     "data": {
      "text/plain": [
       "DecisionTreeRegressor()"
      ]
     },
     "execution_count": 98,
     "metadata": {},
     "output_type": "execute_result"
    }
   ],
   "source": [
    "from sklearn import tree\n",
    "tree_reg = tree.DecisionTreeRegressor()\n",
    "\n",
    "tree_reg.fit(X_train, Y_train)"
   ]
  },
  {
   "cell_type": "code",
   "execution_count": 99,
   "metadata": {},
   "outputs": [],
   "source": [
    "Y_predit_tree = tree_reg.predict(X_train)"
   ]
  },
  {
   "cell_type": "code",
   "execution_count": 100,
   "metadata": {},
   "outputs": [
    {
     "name": "stdout",
     "output_type": "stream",
     "text": [
      "[179800. 116700. 137500. ... 361900. 130100. 155600.]\n",
      "       median_house_value\n",
      "7068             179800.0\n",
      "1864             116700.0\n",
      "9485             137500.0\n",
      "7631             162900.0\n",
      "17667            177600.0\n",
      "...                   ...\n",
      "13721            112500.0\n",
      "17105            409300.0\n",
      "17058            361900.0\n",
      "2973             130100.0\n",
      "12198            155600.0\n",
      "\n",
      "[16512 rows x 1 columns]\n"
     ]
    }
   ],
   "source": [
    "print(Y_predit_tree)\n",
    "\n",
    "print(Y_train)"
   ]
  },
  {
   "cell_type": "code",
   "execution_count": 101,
   "metadata": {},
   "outputs": [
    {
     "name": "stdout",
     "output_type": "stream",
     "text": [
      "0.0\n"
     ]
    }
   ],
   "source": [
    "RMSE_tree = mean_squared_error(Y_predit_tree, Y_train ,squared = False) \n",
    "print(RMSE_tree)"
   ]
  },
  {
   "cell_type": "markdown",
   "metadata": {},
   "source": [
    "On remarque un résultat étonnant, le RMSE de notre modèle de régression par arbre de décision est nul. Cela suggère un problème d'overfitting et on peut résoudre cela en utilisant une profondeur maximale *max_depth*. On aura peut-être un RMSE plus élevé mais un meilleur modèle."
   ]
  },
  {
   "cell_type": "code",
   "execution_count": 102,
   "metadata": {},
   "outputs": [
    {
     "name": "stdout",
     "output_type": "stream",
     "text": [
      "0.0\n"
     ]
    }
   ],
   "source": [
    "tree_reg = tree.DecisionTreeRegressor()\n",
    "\n",
    "tree_reg.fit(X_train, Y_train)\n",
    "Y_predit_tree = tree_reg.predict(X_train)\n",
    "\n",
    "RMSE_tree = mean_squared_error(Y_predit_tree, Y_train ,squared = False) \n",
    "print(RMSE_tree)"
   ]
  },
  {
   "cell_type": "markdown",
   "metadata": {},
   "source": [
    "### 2.5.\n",
    "Même si la valeur de RMSE de DecisionTreeRegressor est égale à 0, on ne peut pas conclure\n",
    "que ce modèle fonctionne parfaitement sur la base d’apprentissage. Pour s’assurer, on va\n",
    "répartir la base d’apprentissage en base d’apprentissage et en base de test en utilisant la\n",
    "méthode 10-fold cross-validation. Pour ce faire, utilisez la fonction cross_val_score du sousmodule\n",
    "model_selection du module sklearn. Ensuite, affichez :\n",
    "\n",
    "• La valeur RMSE de chaque fold\n",
    "\n",
    "• La moyenne des RMSE de tous les folds\n",
    "\n",
    "• L’écart type de tous les folds"
   ]
  },
  {
   "cell_type": "code",
   "execution_count": 103,
   "metadata": {},
   "outputs": [],
   "source": [
    "from sklearn.model_selection import cross_val_score"
   ]
  },
  {
   "cell_type": "code",
   "execution_count": 104,
   "metadata": {},
   "outputs": [
    {
     "data": {
      "text/plain": [
       "array([70650.57123979, 72422.12574387, 68813.42327757, 69039.73078902,\n",
       "       68973.35998453, 61486.52214409, 69580.19439387, 67518.25497668,\n",
       "       64308.00422987, 69079.49390239])"
      ]
     },
     "execution_count": 104,
     "metadata": {},
     "output_type": "execute_result"
    }
   ],
   "source": [
    "# MSE par folds :\n",
    "cvs = cross_val_score(tree_reg, X_train, Y_train, cv=10, scoring='neg_mean_squared_error')\n",
    "cvs *= -1\n",
    "cvs = np.sqrt(cvs)\n",
    "cvs\n",
    "\n",
    "#Pour voir les types de scoring disponibles :\n",
    "#from sklearn.metrics import SCORERS\n",
    "#sorted(SCORERS.keys())"
   ]
  },
  {
   "cell_type": "code",
   "execution_count": 105,
   "metadata": {},
   "outputs": [
    {
     "data": {
      "text/plain": [
       "68187.1680681684"
      ]
     },
     "execution_count": 105,
     "metadata": {},
     "output_type": "execute_result"
    }
   ],
   "source": [
    "#moyenne des MSE :\n",
    "cvs.sum()/len(cvs)"
   ]
  },
  {
   "cell_type": "code",
   "execution_count": 106,
   "metadata": {},
   "outputs": [
    {
     "data": {
      "text/plain": [
       "2981.126608469528"
      ]
     },
     "execution_count": 106,
     "metadata": {},
     "output_type": "execute_result"
    }
   ],
   "source": [
    "#L’écart type :\n",
    "cvs.std()"
   ]
  },
  {
   "cell_type": "markdown",
   "metadata": {},
   "source": [
    "### 2.6.\n",
    "Suivre les étapes de la question précédente sur le modèle de la régression linéaire. Ensuite,\n",
    "comparez les résultats avec ceux du DecisionTreeRegressor. Quel modèle présente un problème\n",
    "d’apprentissage ? pourquoi ?"
   ]
  },
  {
   "cell_type": "code",
   "execution_count": 107,
   "metadata": {},
   "outputs": [
    {
     "data": {
      "text/plain": [
       "array([72542.2610662 , 69206.75590516, 70754.47534793, 70585.41397678,\n",
       "       67644.17658809, 66130.75824897, 72500.16391698, 68550.87117502,\n",
       "       66637.01886615, 68973.09521532])"
      ]
     },
     "execution_count": 107,
     "metadata": {},
     "output_type": "execute_result"
    }
   ],
   "source": [
    "# MSE par folds :\n",
    "cvs = cross_val_score(lin_reg, X_train, Y_train, cv=10, scoring='neg_mean_squared_error')\n",
    "cvs *= -1\n",
    "cvs = np.sqrt(cvs)\n",
    "cvs\n",
    "\n",
    "#Pour voir les types de scoring disponibles :\n",
    "#from sklearn.metrics import SCORERS\n",
    "#sorted(SCORERS.keys())"
   ]
  },
  {
   "cell_type": "code",
   "execution_count": 108,
   "metadata": {},
   "outputs": [
    {
     "data": {
      "text/plain": [
       "69352.49903065924"
      ]
     },
     "execution_count": 108,
     "metadata": {},
     "output_type": "execute_result"
    }
   ],
   "source": [
    "#moyenne des MSE :\n",
    "cvs.sum()/len(cvs)"
   ]
  },
  {
   "cell_type": "code",
   "execution_count": 71,
   "metadata": {},
   "outputs": [
    {
     "data": {
      "text/plain": [
       "2122.4419951362756"
      ]
     },
     "execution_count": 71,
     "metadata": {},
     "output_type": "execute_result"
    }
   ],
   "source": [
    "#L’écart type :\n",
    "cvs.std()"
   ]
  },
  {
   "cell_type": "markdown",
   "metadata": {},
   "source": [
    "**Réponse question 6 :** Le modèle linéaire semble moins performant que le modèle decision tree regressor mais le decision tree regressor n'a pas été optimisé. Il présente un RMSE global de zéro mais pas quand il est testé par cross-validation.\n",
    "\n",
    "C'est sûrement car par défaut, notre decision tree regressor a une profondeur trop élevée (et donc un problème de suraprentissage). Il faut faire du réglage de précision de ses paramètres pour l'améliorer."
   ]
  },
  {
   "cell_type": "markdown",
   "metadata": {},
   "source": [
    "## 3 Fine-Tunning\n",
    "### 3.1 Grid Search\n",
    "Dans cette, partie nous allons chercher les paramètres du modèle de régression qui donnent les\n",
    "meilleurs résultats\n",
    "\n"
   ]
  },
  {
   "cell_type": "markdown",
   "metadata": {},
   "source": [
    "#### 3.1.1. Écrire un code qui :\n",
    "• Crée un objet de la classe RandomForestRegressor\n",
    "Pour plus d’informations sur RandomForestRegressor:\n",
    "https://medium.com/datadriveninvestor/random-forest-regression-9871bc9a25eb\n",
    "\n",
    "• Crée la variable suivante :\n",
    "param_grid = {'n_estimators' : [3, 10, 30],'max_features' : [2, 4, 6, 8]}\n",
    "Cette variable contient un dictionnaire avec quelques valeurs de deux paramètres de la\n",
    "méthode RandomForestRegressor. Au total, 4x3=12 combinaisons vont être testées.\n",
    "\n",
    "• Applique une recherche, de type GridSearch, du couple qui donne le meilleur résultat.\n",
    "Pour ce faire, utilisez la fonction GridSearchCV du sous-module model_selection du\n",
    "module sklearn. Optez pour une valeur de 5 pour \"cv\" (une validation croisée de type\n",
    "5-fold cross-validation)"
   ]
  },
  {
   "cell_type": "code",
   "execution_count": 157,
   "metadata": {},
   "outputs": [],
   "source": [
    "from sklearn.ensemble import RandomForestRegressor\n",
    "rndfor_reg = RandomForestRegressor()\n",
    "\n",
    "param_grid = {'n_estimators' : [3, 10, 30],'max_features' : [2, 4, 6, 8]}\n",
    "\n",
    "from sklearn.model_selection import GridSearchCV\n",
    "gridlog = GridSearchCV(rndfor_reg, param_grid, cv = 5)"
   ]
  },
  {
   "cell_type": "code",
   "execution_count": 158,
   "metadata": {},
   "outputs": [
    {
     "data": {
      "text/plain": [
       "GridSearchCV(cv=5, estimator=RandomForestRegressor(),\n",
       "             param_grid={'max_features': [2, 4, 6, 8],\n",
       "                         'n_estimators': [3, 10, 30]})"
      ]
     },
     "execution_count": 158,
     "metadata": {},
     "output_type": "execute_result"
    }
   ],
   "source": [
    "gridlog.fit(X_train, Y_train.values.ravel())"
   ]
  },
  {
   "cell_type": "markdown",
   "metadata": {},
   "source": [
    "#### 3.1.2. Affichez les meilleurs paramètres de la méthode RandomForestRegressor en utilisant la fonction best_params_"
   ]
  },
  {
   "cell_type": "code",
   "execution_count": 160,
   "metadata": {},
   "outputs": [
    {
     "data": {
      "text/plain": [
       "{'max_features': 4, 'n_estimators': 30}"
      ]
     },
     "execution_count": 160,
     "metadata": {},
     "output_type": "execute_result"
    }
   ],
   "source": [
    "gridlog.best_params_"
   ]
  },
  {
   "cell_type": "markdown",
   "metadata": {},
   "source": [
    "#### 3.1.3. Affichez les résultats des 12 combinaisons avec la fonction grid-search"
   ]
  },
  {
   "cell_type": "markdown",
   "metadata": {},
   "source": [
    "Je n'ai rien trouvé avec grid-search qui permette d'afficher les résultats de chaque combinaison. Par contre j'ai trouvé **cv_results_** qui renvoie des arrays de taille 12 (1 élément par combinaison) ainsi que toutes sortes de résultats pour chacune de ces combinaisons :"
   ]
  },
  {
   "cell_type": "code",
   "execution_count": 165,
   "metadata": {},
   "outputs": [
    {
     "data": {
      "text/plain": [
       "{'mean_fit_time': array([0.09874058, 0.30442863, 0.83631902, 0.14231567, 0.44774637,\n",
       "        1.36740551, 0.18609066, 0.60425243, 1.78297572, 0.23166733,\n",
       "        0.77354712, 2.31947541]),\n",
       " 'std_fit_time': array([0.01229192, 0.01474606, 0.02993202, 0.00706114, 0.00501579,\n",
       "        0.06177763, 0.00348867, 0.00844197, 0.00711683, 0.00572011,\n",
       "        0.00433237, 0.01636533]),\n",
       " 'mean_score_time': array([0.00639844, 0.01438966, 0.03217807, 0.00719738, 0.01358976,\n",
       "        0.03458581, 0.00579381, 0.01298938, 0.0325861 , 0.005797  ,\n",
       "        0.01280174, 0.03277488]),\n",
       " 'std_score_time': array([0.00080156, 0.00173797, 0.00074367, 0.00213105, 0.00162022,\n",
       "        0.0040746 , 0.00074083, 0.0010878 , 0.00148568, 0.0004    ,\n",
       "        0.00075659, 0.00074013]),\n",
       " 'param_max_features': masked_array(data=[2, 2, 2, 4, 4, 4, 6, 6, 6, 8, 8, 8],\n",
       "              mask=[False, False, False, False, False, False, False, False,\n",
       "                    False, False, False, False],\n",
       "        fill_value='?',\n",
       "             dtype=object),\n",
       " 'param_n_estimators': masked_array(data=[3, 10, 30, 3, 10, 30, 3, 10, 30, 3, 10, 30],\n",
       "              mask=[False, False, False, False, False, False, False, False,\n",
       "                    False, False, False, False],\n",
       "        fill_value='?',\n",
       "             dtype=object),\n",
       " 'params': [{'max_features': 2, 'n_estimators': 3},\n",
       "  {'max_features': 2, 'n_estimators': 10},\n",
       "  {'max_features': 2, 'n_estimators': 30},\n",
       "  {'max_features': 4, 'n_estimators': 3},\n",
       "  {'max_features': 4, 'n_estimators': 10},\n",
       "  {'max_features': 4, 'n_estimators': 30},\n",
       "  {'max_features': 6, 'n_estimators': 3},\n",
       "  {'max_features': 6, 'n_estimators': 10},\n",
       "  {'max_features': 6, 'n_estimators': 30},\n",
       "  {'max_features': 8, 'n_estimators': 3},\n",
       "  {'max_features': 8, 'n_estimators': 10},\n",
       "  {'max_features': 8, 'n_estimators': 30}],\n",
       " 'split0_test_score': array([0.70070842, 0.78235374, 0.79621391, 0.71473353, 0.79238619,\n",
       "        0.81449879, 0.72272801, 0.78812363, 0.80306958, 0.71790737,\n",
       "        0.78618506, 0.79971264]),\n",
       " 'split1_test_score': array([0.68124608, 0.79136897, 0.8018489 , 0.75716   , 0.79023432,\n",
       "        0.81195743, 0.74180914, 0.79871321, 0.81203666, 0.75622473,\n",
       "        0.79129141, 0.80219519]),\n",
       " 'split2_test_score': array([0.72741274, 0.7951739 , 0.81820153, 0.75788211, 0.82043035,\n",
       "        0.83666744, 0.776399  , 0.82545569, 0.83753128, 0.78116181,\n",
       "        0.8226982 , 0.83135261]),\n",
       " 'split3_test_score': array([0.69260511, 0.77675633, 0.79564417, 0.74380278, 0.79507068,\n",
       "        0.81343855, 0.74100145, 0.80015259, 0.81079573, 0.74558756,\n",
       "        0.79350416, 0.80788395]),\n",
       " 'split4_test_score': array([0.70761252, 0.78059381, 0.80514722, 0.74260246, 0.80193241,\n",
       "        0.81303609, 0.74524915, 0.79656747, 0.81005848, 0.73839499,\n",
       "        0.78870729, 0.80521867]),\n",
       " 'mean_test_score': array([0.70191697, 0.78524935, 0.80341115, 0.74323617, 0.80001079,\n",
       "        0.81791966, 0.74543735, 0.80180252, 0.81469835, 0.74785529,\n",
       "        0.79647723, 0.80927261]),\n",
       " 'std_test_score': array([0.01547857, 0.00690125, 0.00820166, 0.0156301 , 0.01094321,\n",
       "        0.00940914, 0.01736211, 0.01253999, 0.01183566, 0.02083694,\n",
       "        0.01333846, 0.01137868]),\n",
       " 'rank_test_score': array([12,  8,  4, 11,  6,  1, 10,  5,  2,  9,  7,  3])}"
      ]
     },
     "execution_count": 165,
     "metadata": {},
     "output_type": "execute_result"
    }
   ],
   "source": [
    "gridlog.cv_results_"
   ]
  },
  {
   "cell_type": "markdown",
   "metadata": {},
   "source": [
    "### 3.2 Evaluation sur la base de test\n",
    "Testez votre modèle d’apprentissage sur la base de test. Pour ce faire, pensez à :"
   ]
  },
  {
   "cell_type": "markdown",
   "metadata": {},
   "source": [
    "#### 3.2.1. Remplacer les valeurs NaN de l’attribut \"total_bedrooms\" de la base de test par la médiane"
   ]
  },
  {
   "cell_type": "code",
   "execution_count": 170,
   "metadata": {},
   "outputs": [
    {
     "data": {
      "text/plain": [
       "207"
      ]
     },
     "execution_count": 170,
     "metadata": {},
     "output_type": "execute_result"
    }
   ],
   "source": [
    "X_test[\"total_bedrooms\"].isna().sum()"
   ]
  },
  {
   "cell_type": "code",
   "execution_count": 175,
   "metadata": {},
   "outputs": [
    {
     "name": "stderr",
     "output_type": "stream",
     "text": [
      "<ipython-input-175-d6e99fa25666>:1: SettingWithCopyWarning: \n",
      "A value is trying to be set on a copy of a slice from a DataFrame.\n",
      "Try using .loc[row_indexer,col_indexer] = value instead\n",
      "\n",
      "See the caveats in the documentation: https://pandas.pydata.org/pandas-docs/stable/user_guide/indexing.html#returning-a-view-versus-a-copy\n",
      "  X_test[\"total_bedrooms\"] = X_test[\"total_bedrooms\"].fillna(X_test[\"total_bedrooms\"].mean())\n"
     ]
    },
    {
     "data": {
      "text/plain": [
       "0"
      ]
     },
     "execution_count": 175,
     "metadata": {},
     "output_type": "execute_result"
    }
   ],
   "source": [
    "X_test[\"total_bedrooms\"] = X_test[\"total_bedrooms\"].fillna(X_test[\"total_bedrooms\"].mean())\n",
    "X_test[\"total_bedrooms\"].isna().sum()"
   ]
  },
  {
   "cell_type": "markdown",
   "metadata": {},
   "source": [
    "#### 3.2.2. Transformer les valeurs textuelles de \"ocean_proximity\" en valeurs numériques"
   ]
  },
  {
   "cell_type": "code",
   "execution_count": 177,
   "metadata": {},
   "outputs": [
    {
     "data": {
      "text/plain": [
       "16064    4\n",
       "6652     0\n",
       "5720     0\n",
       "12558    1\n",
       "6661     1\n",
       "Name: ocean_proximity, dtype: int32"
      ]
     },
     "execution_count": 177,
     "metadata": {},
     "output_type": "execute_result"
    }
   ],
   "source": [
    "# Etape déjà réalisée en 1.5.3.\n",
    "X_test[\"ocean_proximity\"].head(5)"
   ]
  },
  {
   "cell_type": "markdown",
   "metadata": {},
   "source": [
    "#### 3.2.3. Stocker le modèle d’apprentissage dans une variable en utilisant la fonction best_estimator_\n",
    "du module GridSearchCV"
   ]
  },
  {
   "cell_type": "code",
   "execution_count": 183,
   "metadata": {},
   "outputs": [
    {
     "data": {
      "text/plain": [
       "RandomForestRegressor(max_features=4, n_estimators=30)"
      ]
     },
     "execution_count": 183,
     "metadata": {},
     "output_type": "execute_result"
    }
   ],
   "source": [
    "best_rndfor_reg = gridlog.best_estimator_\n",
    "best_rndfor_reg.fit(X_train, Y_train.values.ravel())"
   ]
  },
  {
   "cell_type": "markdown",
   "metadata": {},
   "source": [
    "#### 3.2.4. Calculer la valeur RMSE du modèle sur la base de test"
   ]
  },
  {
   "cell_type": "code",
   "execution_count": 186,
   "metadata": {},
   "outputs": [
    {
     "name": "stdout",
     "output_type": "stream",
     "text": [
      "50841.881778380986\n"
     ]
    }
   ],
   "source": [
    "Y_test_predit = best_rndfor_reg.predict(X_test)\n",
    "Y_test_predit\n",
    "\n",
    "RMSE = mean_squared_error(Y_test_predit, Y_test ,squared = False) \n",
    "print(RMSE)"
   ]
  },
  {
   "cell_type": "markdown",
   "metadata": {},
   "source": [
    "Grâce à l'emploi d'une forêt décisionnelle, il s'agit de la meilleure valeur de RMSE qu'on ait eue jusqu'ici."
   ]
  }
 ],
 "metadata": {
  "kernelspec": {
   "display_name": "Python 3",
   "language": "python",
   "name": "python3"
  },
  "language_info": {
   "codemirror_mode": {
    "name": "ipython",
    "version": 3
   },
   "file_extension": ".py",
   "mimetype": "text/x-python",
   "name": "python",
   "nbconvert_exporter": "python",
   "pygments_lexer": "ipython3",
   "version": "3.8.3"
  },
  "varInspector": {
   "cols": {
    "lenName": 16,
    "lenType": 16,
    "lenVar": 40
   },
   "kernels_config": {
    "python": {
     "delete_cmd_postfix": "",
     "delete_cmd_prefix": "del ",
     "library": "var_list.py",
     "varRefreshCmd": "print(var_dic_list())"
    },
    "r": {
     "delete_cmd_postfix": ") ",
     "delete_cmd_prefix": "rm(",
     "library": "var_list.r",
     "varRefreshCmd": "cat(var_dic_list()) "
    }
   },
   "types_to_exclude": [
    "module",
    "function",
    "builtin_function_or_method",
    "instance",
    "_Feature"
   ],
   "window_display": false
  }
 },
 "nbformat": 4,
 "nbformat_minor": 4
}
